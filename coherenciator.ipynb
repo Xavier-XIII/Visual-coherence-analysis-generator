{
 "cells": [
  {
   "cell_type": "code",
   "execution_count": 36,
   "id": "a411e740-2f38-4d9c-ab8b-b116bf250932",
   "metadata": {
    "scrolled": true
   },
   "outputs": [
    {
     "data": {
      "text/html": [
       "<html>\\(\\displaystyle \\verb|Inverted|\\verb| |\\verb|domain|\\verb| |\\verb|2|\\)</html>"
      ],
      "text/latex": [
       "$\\displaystyle \\verb|Inverted|\\verb| |\\verb|domain|\\verb| |\\verb|2|$"
      ],
      "text/plain": [
       "'Inverted domain 2'"
      ]
     },
     "metadata": {},
     "output_type": "display_data"
    },
    {
     "name": "stdout",
     "output_type": "stream",
     "text": [
      "121.050000000000\n",
      "121.100000000000\n"
     ]
    },
    {
     "data": {
      "image/png": "[encoded data removed]",
      "text/plain": [
       "Graphics object consisting of 9 graphics primitives"
      ]
     },
     "metadata": {},
     "output_type": "display_data"
    }
   ],
   "source": [
    "#TODO\n",
    "#Make auto scale work\n",
    "#Remove y axis from view\n",
    "#Mode for non-domain values\n",
    "#Allow selection of domain - x axis - domain or domain - domain -x axis orders\n",
    "#Allow selection of arrow ends\n",
    "#Add labels for intersected\n",
    "#support scientific numbers\n",
    "#fix = in the labels\n",
    "\n",
    "#Defining the start and end values for the values' domains\n",
    "s1 = 120.5\n",
    "e1 = 121.2\n",
    "s2 = 121.1\n",
    "e2 = 121.05\n",
    "\n",
    "#Defining the units and value name\n",
    "units = \"Ω\"\n",
    "val_name = \"R\"\n",
    "\n",
    "#Defining the colors of the value domains, intersection domain and text\n",
    "h_color = \"black\"\n",
    "v_color = \"grey\"\n",
    "d_color = \"grey\"\n",
    "t_color = \"black\"\n",
    "\n",
    "#Parameters that will autotune themselves eventually\n",
    "height = 0.5\n",
    "height_dist = 0.1\n",
    "head_size = 2\n",
    "\n",
    "#Arrows for each domain to be displayed\n",
    "v1 = arrow((s1, height_dist), (e1, height_dist), arrowsize=head_size, head=2, color=h_color)\n",
    "v2 = arrow((s2, -height_dist), (e2, -height_dist), arrowsize=head_size, head=2, color=h_color)\n",
    "\n",
    "#find span for min max\n",
    "vals = [s1, e1, s2, e2]\n",
    "min = s1\n",
    "max = s1\n",
    "for i in range(len(vals)):\n",
    "    i++\n",
    "    if max\n",
    "\n",
    "#Flip inverted domains\n",
    "if s1 > e1:\n",
    "    temp = s1\n",
    "    s1 = e1\n",
    "    e1 = temp\n",
    "    show(\"Inverted domain 1\")\n",
    "elif s2 > e2:\n",
    "    temp = s2\n",
    "    s2 = e2\n",
    "    e2 = temp\n",
    "    show(\"Inverted domain 2\")\n",
    "\n",
    "#Find included start and end values to determine domain intersection\n",
    "intersect = []\n",
    "if s1 >= s2 and s1 <= e2:\n",
    "    intersect.append(s1)\n",
    "    print(s1)\n",
    "if e1 >= s2 and e1 <= e2:\n",
    "    intersect.append(e1)\n",
    "    print(e1)\n",
    "if len(intersect) < 2 and s2 >= s1 and s2 <= e1:\n",
    "    intersect.append(s2)\n",
    "    print(s2)\n",
    "if len(intersect) < 2 and e2 >= s1 and e2 <= e1:\n",
    "    intersect.append(e2)\n",
    "    print(e2)\n",
    "    \n",
    "#if an intersection exists, display the graph with intersection highlighted and dotted lines\n",
    "#otherwise notify user and display the domains on the graph\n",
    "if len(intersect) == 2:\n",
    "\n",
    "    p1 = ([intersect[0], height_dist])\n",
    "    p2 = ([intersect[0], -height_dist])\n",
    "    p3 = ([intersect[1], -height_dist])\n",
    "    p4 = ([intersect[1], height_dist])\n",
    "    \n",
    "    l1 = line([(intersect[0], height_dist), (intersect[0], -height_dist)], linestyle='dashed', color=v_color)\n",
    "    l2 = line([(intersect[1], -height_dist), (intersect[1], height_dist)], linestyle='dashed', color=v_color)\n",
    "    a = polygon([p1, p2, p3, p4], color=d_color, alpha=0.4)\n",
    "\n",
    "    val_name += \" = \"\n",
    "    t1 = text(val_name + str(s1) + units, (s1 + s1/50, height_dist + height_dist/5), color=t_color, fontsize=10, horizontal_alignment='right', vertical_alignment=\"bottom\")\n",
    "    t2 = text(val_name + str(e1) + units, (e1 + e1/50, height_dist + height_dist/5), color=t_color, fontsize=10, horizontal_alignment='left', vertical_alignment=\"bottom\")\n",
    "    t3 = text(val_name + str(s2) + units, (s2 - s2/50, -height_dist - height_dist/5), color=t_color, fontsize=10, horizontal_alignment='right', vertical_alignment=\"top\")\n",
    "    t4 = text(val_name + str(e2) + units, (e2 - e2/50, -height_dist - height_dist/5), color=t_color, fontsize=10, horizontal_alignment='left', vertical_alignment=\"top\")\n",
    "\n",
    "    p = plot()\n",
    "    show(v1 + v2 + l1 + l2 + a + t1 + t2 + t3 + t4)\n",
    "         \n",
    "elif len(intersect) == 1:\n",
    "\n",
    "    print(intersect[0])\n",
    "    \n",
    "else:\n",
    "    show(\"The value domains do not intersect and are incoherent\")\n",
    "    show(v1 + v2)"
   ]
  },
  {
   "cell_type": "code",
   "execution_count": null,
   "id": "d20f6ee2-ec40-4f26-8fb0-672e524f60c3",
   "metadata": {},
   "outputs": [],
   "source": [
    "# stub for a mode that takes a single value (like a theoretical one without uncertainty) instead of a second domain\n",
    "s1 = 30\n",
    "e1 = 120\n",
    "s2 = 50\n",
    "e2 = 100\n",
    "h_color = \"black\"\n",
    "v_color = \"grey\"\n",
    "d_color = \"grey\"\n",
    "t_color = \"black\"\n",
    "val_name = \"W\"\n",
    "height = 50\n",
    "height_dist = 10\n",
    "b1 = point((0, height))\n",
    "b2 = point((0, -height))\n",
    "\n",
    "v1 = arrow((s1, height_dist), (e1, height_dist), head=2, color=h_color)\n",
    "v2 = arrow((s2, -height_dist), (e2, -height_dist), head=2, color=h_color)\n",
    "\n",
    "if (e1 - s2) >= 0:\n",
    "    l1 = line([(e1, height_dist), (e1, -height_dist)], linestyle='dashed', color=v_color)\n",
    "    l2 = line([(s2, -height_dist), (s2, height_dist)], linestyle='dashed', color=v_color)\n",
    "    a = polygon([[e1, height_dist], [e1, -height_dist],[s2, -height_dist], [s2, height_dist]], color=d_color, alpha=0.4)\n",
    "\n",
    "    p1 = text(val_name + \" = \" + str(e1), (e1 + e1/50, height_dist + height_dist/20), color=t_color, fontsize=10, horizontal_alignment='left', vertical_alignment=\"bottom\")\n",
    "    p2 = text(val_name + \" = \" + str(s2), (s2 - s2/50, -height_dist - height_dist/20), color=t_color, fontsize=10, horizontal_alignment='right', vertical_alignment=\"top\")\n",
    "    p3 = text(val_name + \" = \" + str(e1), (s1 + s1/50, height_dist + height_dist/5), color=t_color, fontsize=10, horizontal_alignment='center', vertical_alignment=\"bottom\")\n",
    "    \n",
    "    show(b1 + b2 + v1 + v2 + l1 + l2 + a + p1 + p2 + p3)\n",
    "else:\n",
    "    show(\"Les valeurs ne partagent pas un domaine et sont incohérentes\")\n",
    "    show(b1 + b2 + v1 + v2 + v12 + v22)"
   ]
  },
  {
   "cell_type": "code",
   "execution_count": null,
   "id": "037c6503-2052-47aa-95e0-a7d0398e89c9",
   "metadata": {},
   "outputs": [],
   "source": []
  }
 ],
 "metadata": {
  "kernelspec": {
   "display_name": "SageMath 10.7",
   "language": "sage",
   "name": "sagemath"
  },
  "language_info": {
   "codemirror_mode": {
    "name": "ipython",
    "version": 3
   },
   "file_extension": ".py",
   "mimetype": "text/x-python",
   "name": "python",
   "nbconvert_exporter": "python",
   "pygments_lexer": "ipython3",
   "version": "3.11.13"
  }
 },
 "nbformat": 4,
 "nbformat_minor": 5
}
