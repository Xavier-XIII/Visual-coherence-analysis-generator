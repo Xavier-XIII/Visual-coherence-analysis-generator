{
 "cells": [
  {
   "cell_type": "code",
   "execution_count": 45,
   "id": "a411e740-2f38-4d9c-ab8b-b116bf250932",
   "metadata": {},
   "outputs": [
    {
     "data": {
      "image/png": "[encoded data removed]",
      "text/plain": [
       "Graphics object consisting of 11 graphics primitives"
      ]
     },
     "metadata": {},
     "output_type": "display_data"
    }
   ],
   "source": [
    "# Le \"Coherenciateur\" alpha v0.1\n",
    "# Développé par Théodore Cournoyer\n",
    "s1 = 30\n",
    "e1 = 120\n",
    "s2 = 50\n",
    "e2 = 100\n",
    "h_color = \"black\"\n",
    "v_color = \"grey\"\n",
    "d_color = \"grey\"\n",
    "t_color = \"black\"\n",
    "val_name = \"W\"\n",
    "height = 50\n",
    "height_dist = 10\n",
    "b1 = point((0, height))\n",
    "b2 = point((0, -height))\n",
    "\n",
    "v1 = arrow((s1, height_dist), (e1, height_dist), head=2, color=h_color)\n",
    "v2 = arrow((s2, -height_dist), (e2, -height_dist), head=2, color=h_color)\n",
    "\n",
    "if (e1 - s2) >= 0:\n",
    "    d1 = arrow((e1, height_dist), (e1, -height_dist), linestyle='dashed', arrowsize=dx, color=v_color)\n",
    "    d2 = arrow((s2, -height_dist), (s2, height_dist), linestyle='dashed', arrowsize=dx, color=v_color)\n",
    "    a = polygon([[e1, height_dist], [e1, -height_dist],[s2, -height_dist], [s2, height_dist]], color=d_color, alpha=0.4)\n",
    "\n",
    "    p1 = text(val_name + \" = \" + str(e1), (e1 + e1/50, height_dist + height_dist/20), color=t_color, fontsize=10, horizontal_alignment='left', vertical_alignment=\"bottom\")\n",
    "    p2 = text(val_name + \" = \" + str(s2), (s2 - s2/50, -height_dist - height_dist/20), color=t_color, fontsize=10, horizontal_alignment='right', vertical_alignment=\"top\")\n",
    "    p3 = text(val_name + \" = \" + str(e1), (s1 + s1/50, height_dist + height_dist/5), color=t_color, fontsize=10, horizontal_alignment='center', vertical_alignment=\"bottom\")\n",
    "    p4 = text(val_name + \" = \" + str(s2), (e2 - e2/50, -height_dist - height_dist/5), color=t_color, fontsize=10, horizontal_alignment='center', vertical_alignment=\"top\")\n",
    "    \n",
    "    show(b1 + b2 + v1 + v2 + d1 + d2 + a + p1 + p2 + p3 + p4)\n",
    "else:\n",
    "    show(\"Les valeurs ne partagent pas un domaine et sont incohérentes\")\n",
    "    show(b1 + b2 + v1 + v2 + v12 + v22)"
   ]
  },
  {
   "cell_type": "code",
   "execution_count": null,
   "id": "d20f6ee2-ec40-4f26-8fb0-672e524f60c3",
   "metadata": {},
   "outputs": [],
   "source": [
    "# Le \"Coherenciateur\" alpha v0.1\n",
    "# Développé par Théodore Cournoyer\n",
    "s1 = 30\n",
    "e1 = 120\n",
    "s2 = 50\n",
    "e2 = 100\n",
    "h_color = \"black\"\n",
    "v_color = \"grey\"\n",
    "d_color = \"grey\"\n",
    "t_color = \"black\"\n",
    "val_name = \"W\"\n",
    "height = 50\n",
    "height_dist = 10\n",
    "b1 = point((0, height))\n",
    "b2 = point((0, -height))\n",
    "\n",
    "v1 = arrow((s1, height_dist), (e1, height_dist), head=2, color=h_color)\n",
    "v2 = point((s2,))\n",
    "\n",
    "if (e1 - s2) >= 0:\n",
    "    d1 = arrow((e1, height_dist), (e1, -height_dist), linestyle='dashed', arrowsize=dx, color=v_color)\n",
    "    d2 = arrow((s2, -height_dist), (s2, height_dist), linestyle='dashed', arrowsize=dx, color=v_color)\n",
    "    a = polygon([[e1, height_dist], [e1, -height_dist],[s2, -height_dist], [s2, height_dist]], color=d_color, alpha=0.4)\n",
    "\n",
    "    p1 = text(val_name + \" = \" + str(e1), (e1 + e1/50, height_dist + height_dist/20), color=t_color, fontsize=10, horizontal_alignment='left', vertical_alignment=\"bottom\")\n",
    "    p2 = text(val_name + \" = \" + str(s2), (s2 - s2/50, -height_dist - height_dist/20), color=t_color, fontsize=10, horizontal_alignment='right', vertical_alignment=\"top\")\n",
    "    p3 = text(val_name + \" = \" + str(e1), (s1 + s1/50, height_dist + height_dist/5), color=t_color, fontsize=10, horizontal_alignment='center', vertical_alignment=\"bottom\")\n",
    "    \n",
    "    show(b1 + b2 + v1 + v2 + d1 + d2 + a + p1 + p2 + p3)\n",
    "else:\n",
    "    show(\"Les valeurs ne partagent pas un domaine et sont incohérentes\")\n",
    "    show(b1 + b2 + v1 + v2 + v12 + v22)"
   ]
  }
 ],
 "metadata": {
  "kernelspec": {
   "display_name": "SageMath 10.7",
   "language": "sage",
   "name": "sagemath"
  },
  "language_info": {
   "codemirror_mode": {
    "name": "ipython",
    "version": 3
   },
   "file_extension": ".py",
   "mimetype": "text/x-python",
   "name": "python",
   "nbconvert_exporter": "python",
   "pygments_lexer": "ipython3",
   "version": "3.11.13"
  }
 },
 "nbformat": 4,
 "nbformat_minor": 5
}
